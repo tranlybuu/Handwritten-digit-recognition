{
 "cells": [
  {
   "cell_type": "code",
   "execution_count": 4,
   "metadata": {},
   "outputs": [],
   "source": [
    "import numpy as np\n",
    "import matplotlib.pyplot as plt\n",
    "from scipy.io import loadmat"
   ]
  },
  {
   "cell_type": "code",
   "execution_count": 5,
   "metadata": {},
   "outputs": [],
   "source": [
    "datafile = 'D:\\exam_folder\\ML\\LogisticRegression\\ExampleApplication\\HandwrittenDigitRecognition\\ex3data1.mat'\n",
    "mat = loadmat(datafile) \n",
    "X = mat['X']"
   ]
  },
  {
   "cell_type": "code",
   "execution_count": 25,
   "metadata": {},
   "outputs": [
    {
     "data": {
      "text/plain": [
       "<matplotlib.image.AxesImage at 0x1389c162e50>"
      ]
     },
     "execution_count": 25,
     "metadata": {},
     "output_type": "execute_result"
    },
    {
     "data": {
      "image/png": "[encoded data removed]",
      "text/plain": [
       "<Figure size 432x288 with 1 Axes>"
      ]
     },
     "metadata": {
      "needs_background": "light"
     },
     "output_type": "display_data"
    }
   ],
   "source": [
    "index = np.random.randint(0,5000)\n",
    "img = X[index]\n",
    "arr = []\n",
    "for i in range(20):\n",
    "    arr.append(img[(i*20):(i*20+20)])\n",
    "img_new = np.array(arr).T\n",
    "plt.imshow(img_new, cmap='gray_r')"
   ]
  }
 ],
 "metadata": {
  "interpreter": {
   "hash": "574df22903b5ecf745a74d9da572333131986dd8c66ed169ab80fc985013ab2d"
  },
  "kernelspec": {
   "display_name": "Python 3.8.10 64-bit",
   "language": "python",
   "name": "python3"
  },
  "language_info": {
   "codemirror_mode": {
    "name": "ipython",
    "version": 3
   },
   "file_extension": ".py",
   "mimetype": "text/x-python",
   "name": "python",
   "nbconvert_exporter": "python",
   "pygments_lexer": "ipython3",
   "version": "3.8.10"
  },
  "orig_nbformat": 4
 },
 "nbformat": 4,
 "nbformat_minor": 2
}
